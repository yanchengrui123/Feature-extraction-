{
 "cells": [
  {
   "cell_type": "code",
   "execution_count": null,
   "id": "d5acbfb2",
   "metadata": {},
   "outputs": [],
   "source": [
    "import os\n",
    "import open3d as o3d"
   ]
  },
  {
   "cell_type": "code",
   "execution_count": null,
   "id": "23059f31",
   "metadata": {},
   "outputs": [],
   "source": [
    "def extract_dimensions(file_path):\n",
    "    mesh = o3d.io.read_triangle_mesh(file_path)\n",
    "    bbox = mesh.get_axis_aligned_bounding_box()\n",
    "    lengths = bbox.get_max_bound() - bbox.get_min_bound()\n",
    "    return lengths[0], lengths[1], lengths[2]"
   ]
  },
  {
   "cell_type": "code",
   "execution_count": null,
   "id": "0c88d1a5",
   "metadata": {},
   "outputs": [],
   "source": [
    "data_dir = 'D:\\\\jupyter notebook\\\\3D model\\\\正式数据\\\\OBJ'\n",
    "output_file = 'D:\\\\jupyter notebook\\\\3D model\\\\file.csv'"
   ]
  },
  {
   "cell_type": "code",
   "execution_count": null,
   "id": "a52c89b8",
   "metadata": {},
   "outputs": [],
   "source": [
    "model_files = [os.path.join(data_dir, f) for f in os.listdir(data_dir) if f.endswith('.obj')]"
   ]
  },
  {
   "cell_type": "code",
   "execution_count": null,
   "id": "88076736",
   "metadata": {},
   "outputs": [],
   "source": [
    "results = []\n",
    "for file_path in model_files:\n",
    "    length, width, height = extract_dimensions(file_path)\n",
    "    ratio1 = length / width\n",
    "    ratio2 = height / length\n",
    "    ratio3 = height / width\n",
    "    results.append((file_path, length, width, height, ratio1, ratio2))"
   ]
  },
  {
   "cell_type": "code",
   "execution_count": null,
   "id": "77bb5391",
   "metadata": {},
   "outputs": [],
   "source": [
    "with open(output_file, 'w') as f:\n",
    "    f.write('file_path,length,width,height,ratio1,ratio2,ratio3\\n')\n",
    "    for r in results:\n",
    "        f.write(','.join([str(x) for x in r]) + '\\n')"
   ]
  }
 ],
 "metadata": {
  "kernelspec": {
   "display_name": "Python 3 (ipykernel)",
   "language": "python",
   "name": "python3"
  },
  "language_info": {
   "codemirror_mode": {
    "name": "ipython",
    "version": 3
   },
   "file_extension": ".py",
   "mimetype": "text/x-python",
   "name": "python",
   "nbconvert_exporter": "python",
   "pygments_lexer": "ipython3",
   "version": "3.9.13"
  }
 },
 "nbformat": 4,
 "nbformat_minor": 5
}

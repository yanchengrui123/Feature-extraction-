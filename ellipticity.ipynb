{
 "cells": [
  {
   "cell_type": "code",
   "execution_count": 1,
   "id": "b61bdf7d",
   "metadata": {},
   "outputs": [],
   "source": [
    "import os\n",
    "import numpy as np\n",
    "import pandas as pd\n",
    "import trimesh\n",
    "from scipy import integrate\n",
    "from trimesh import Trimesh"
   ]
  },
  {
   "cell_type": "code",
   "execution_count": 2,
   "id": "7b180c62",
   "metadata": {},
   "outputs": [],
   "source": [
    "def ellipticity(vertices):\n",
    "    # 计算贝壳三维模型的椭圆度\n",
    "    # vertices: 贝壳三维模型的顶点数组，每个顶点有3个坐标值，共n行3列\n",
    "    # 返回值: 贝壳三维模型的椭圆度\n",
    "    \n",
    "    # 计算顶点数\n",
    "    n = vertices.shape[0]\n",
    "    \n",
    "    # 计算贝壳轴线长度\n",
    "    lengths = np.zeros(n)\n",
    "    for i in range(n):\n",
    "        lengths[i] = np.linalg.norm(vertices[i])\n",
    "    L = integrate.trapz(lengths, dx=1)\n",
    "    \n",
    "    # 计算贝壳的宽度\n",
    "    W = np.zeros(n)\n",
    "    for i in range(n):\n",
    "        x = vertices[i][0]\n",
    "        y = vertices[i][1]\n",
    "        z = vertices[i][2]\n",
    "        W[i] = np.sqrt(y**2 + z**2)\n",
    "    W = np.mean(W)\n",
    "    \n",
    "    # 计算贝壳的直径\n",
    "    d = np.max(lengths) - np.min(lengths)\n",
    "    \n",
    "    # 计算椭圆度\n",
    "    E = L**2 / (4*np.pi*d*W)\n",
    "    \n",
    "    return E"
   ]
  },
  {
   "cell_type": "code",
   "execution_count": 3,
   "id": "a1e8cb42",
   "metadata": {},
   "outputs": [],
   "source": [
    "folder_path = \"D:\\\\jupyter notebook\\\\3D model\\\\正式数据\\\\OBJ\""
   ]
  },
  {
   "cell_type": "code",
   "execution_count": 4,
   "id": "7289a806",
   "metadata": {},
   "outputs": [],
   "source": [
    "file_names = os.listdir(folder_path)\n",
    "obj_files = [f for f in file_names if f.endswith('.obj')]"
   ]
  },
  {
   "cell_type": "code",
   "execution_count": 5,
   "id": "3b83521a",
   "metadata": {},
   "outputs": [],
   "source": [
    "ellipticity_list = []"
   ]
  },
  {
   "cell_type": "code",
   "execution_count": 6,
   "id": "7c6cae27",
   "metadata": {},
   "outputs": [],
   "source": [
    "for obj_file in obj_files:\n",
    "    # 读取obj文件\n",
    "    mesh = Trimesh()\n",
    "    mesh = trimesh.load(os.path.join(\"D:\\\\jupyter notebook\\\\3D model\\\\正式数据\\\\OBJ\", obj_file))\n",
    "    \n",
    "    # 计算椭圆度\n",
    "    ellipticity_value = ellipticity(mesh.vertices)\n",
    "    ellipticity_list.append(ellipticity_value)"
   ]
  },
  {
   "cell_type": "code",
   "execution_count": 7,
   "id": "b9178af8",
   "metadata": {},
   "outputs": [],
   "source": [
    "df = pd.DataFrame({'File Name': obj_files, 'Ellipticity': ellipticity_list})\n",
    "df.to_csv(\"ellipticity.csv\", index=False)"
   ]
  }
 ],
 "metadata": {
  "kernelspec": {
   "display_name": "Python 3 (ipykernel)",
   "language": "python",
   "name": "python3"
  },
  "language_info": {
   "codemirror_mode": {
    "name": "ipython",
    "version": 3
   },
   "file_extension": ".py",
   "mimetype": "text/x-python",
   "name": "python",
   "nbconvert_exporter": "python",
   "pygments_lexer": "ipython3",
   "version": "3.9.13"
  }
 },
 "nbformat": 4,
 "nbformat_minor": 5
}

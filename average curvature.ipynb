{
 "cells": [
  {
   "cell_type": "code",
   "execution_count": null,
   "id": "bc1b50ba",
   "metadata": {},
   "outputs": [],
   "source": [
    "import os\n",
    "import open3d as o3d\n",
    "import numpy as np\n",
    "import pandas as pd\n",
    "import trimesh"
   ]
  },
  {
   "cell_type": "code",
   "execution_count": null,
   "id": "16907d75",
   "metadata": {},
   "outputs": [],
   "source": [
    "for filename in os.listdir(\"D:\\\\jupyter notebook\\\\3D model\\\\正式数据\\\\OBJ\"):\n",
    "    if filename.endswith(\".obj\"):\n",
    "        # 读取OBJ文件\n",
    "        mesh = o3d.io.read_triangle_mesh(os.path.join(\"D:\\\\jupyter notebook\\\\3D model\\\\正式数据\\\\OBJ\", filename))"
   ]
  },
  {
   "cell_type": "code",
   "execution_count": null,
   "id": "13ae5cf8",
   "metadata": {},
   "outputs": [],
   "source": [
    "for filename in os.listdir(\"D:\\\\jupyter notebook\\\\3D model\\\\正式数据\\\\OBJ\"):\n",
    "    if filename.endswith(\".obj\"):\n",
    "        # 读取OBJ文件并创建三角网格\n",
    "        mesh = trimesh.load(os.path.join(\"D:\\\\jupyter notebook\\\\3D model\\\\正式数据\\\\OBJ\", filename))\n",
    "\n",
    "        # 计算每个顶点的曲率\n",
    "        curvatures = trimesh.curvature.vertex_defects(mesh)\n",
    "\n",
    "        # 计算每个点的平均曲率\n",
    "        avg_curvature = np.mean(curvatures)\n",
    "\n",
    "        # 归一化\n",
    "        min_curvature = np.min(curvatures)\n",
    "        max_curvature = np.max(curvatures)\n",
    "        normalized_curvatures = (curvatures - min_curvature) / (max_curvature - min_curvature)\n",
    "        normalized_avg_curvature = (avg_curvature - min_curvature) / (max_curvature - min_curvature)\n",
    "\n",
    "        # 将结果添加到字典中\n",
    "        results_dict[filename] = normalized_avg_curvature"
   ]
  },
  {
   "cell_type": "code",
   "execution_count": null,
   "id": "c9db601a",
   "metadata": {},
   "outputs": [],
   "source": [
    "with open(\"normalized_curvatures.csv\", \"w\") as f:\n",
    "    f.write(\"Filename,NormalizedAvgCurvature\\n\")\n",
    "    for filename, normalized_avg_curvature in results_dict.items():\n",
    "        f.write(filename + \",\" + str(normalized_avg_curvature) + \"\\n\")"
   ]
  }
 ],
 "metadata": {
  "kernelspec": {
   "display_name": "Python 3 (ipykernel)",
   "language": "python",
   "name": "python3"
  },
  "language_info": {
   "codemirror_mode": {
    "name": "ipython",
    "version": 3
   },
   "file_extension": ".py",
   "mimetype": "text/x-python",
   "name": "python",
   "nbconvert_exporter": "python",
   "pygments_lexer": "ipython3",
   "version": "3.9.13"
  }
 },
 "nbformat": 4,
 "nbformat_minor": 5
}
